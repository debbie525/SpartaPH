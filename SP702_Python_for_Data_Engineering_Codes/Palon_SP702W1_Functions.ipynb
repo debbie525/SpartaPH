{
 "cells": [
  {
   "cell_type": "code",
   "execution_count": 1,
   "metadata": {},
   "outputs": [
    {
     "name": "stdout",
     "output_type": "stream",
     "text": [
      "5\n",
      "10\n",
      "20\n",
      "25\n",
      "35\n",
      "40\n",
      "50\n",
      "55\n",
      "65\n",
      "70\n",
      "80\n",
      "85\n",
      "95\n",
      "100\n",
      "110\n",
      "115\n",
      "125\n",
      "130\n",
      "140\n",
      "145\n",
      "155\n",
      "160\n",
      "170\n",
      "175\n",
      "185\n",
      "190\n",
      "200\n",
      "205\n",
      "215\n",
      "220\n",
      "230\n",
      "235\n",
      "245\n",
      "250\n",
      "260\n",
      "265\n",
      "275\n",
      "280\n",
      "290\n",
      "295\n"
     ]
    }
   ],
   "source": [
    "#Print all multiples of 5 that are not multiples of 3 under 300\n",
    "\n",
    "x = 0\n",
    "while x < 300:\n",
    "    if x % 3 != 0 and x % 5 == 0:\n",
    "        print(x)\n",
    "    x += 1\n",
    "\n",
    "exit()\n"
   ]
  },
  {
   "cell_type": "code",
   "execution_count": 1,
   "metadata": {},
   "outputs": [
    {
     "name": "stdout",
     "output_type": "stream",
     "text": [
      "Please enter the first number:100\n",
      "Please enter the second number:50\n",
      "The answer is a positive number\n"
     ]
    }
   ],
   "source": [
    "#Function that determines whether the difference of two input numbers is positive or negative\n",
    "\n",
    "def pos_neg():\n",
    "    num1=input('Please enter the first number:')\n",
    "    num2=input('Please enter the second number:')\n",
    "\n",
    "    if (float(num1)-float(num2))<0:\n",
    "        print('The answer is a negative number')\n",
    "    elif (float(num1)-float(num2))>0:\n",
    "        print('The answer is a positive number')\n",
    "    else:\n",
    "        print('The answer is zero. Neither positive or negative number.')\n",
    "\n",
    "pos_neg()\n",
    "\n",
    "exit()"
   ]
  },
  {
   "cell_type": "code",
   "execution_count": null,
   "metadata": {},
   "outputs": [],
   "source": [
    "# Function to convert minutes to hours\n",
    "\n",
    "def min_hrs ():\n",
    "    min=input('Please enter a number: ')\n",
    "    hrs=float(min)/60\n",
    "    print(str(min) + ' minutes is ' + str(hrs) + ' hour/s')\n",
    "\n",
    "\n",
    "min_hrs()\n",
    "\n",
    "exit()"
   ]
  }
 ],
 "metadata": {
  "kernelspec": {
   "display_name": "Python 3",
   "language": "python",
   "name": "python3"
  },
  "language_info": {
   "codemirror_mode": {
    "name": "ipython",
    "version": 3
   },
   "file_extension": ".py",
   "mimetype": "text/x-python",
   "name": "python",
   "nbconvert_exporter": "python",
   "pygments_lexer": "ipython3",
   "version": "3.6.5"
  }
 },
 "nbformat": 4,
 "nbformat_minor": 2
}
