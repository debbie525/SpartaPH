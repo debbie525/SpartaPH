{
 "cells": [
  {
   "cell_type": "code",
   "execution_count": 4,
   "metadata": {},
   "outputs": [
    {
     "name": "stdout",
     "output_type": "stream",
     "text": [
      "['Low', 'High', 'Low', 'High', 'High', 'High', 'High']\n"
     ]
    }
   ],
   "source": [
    "#Discretization\n",
    "\n",
    "employee_salaries= [100, 700, 300, 1500,600,550, 1100]\n",
    "\n",
    "for x in range (0,7):\n",
    "    if employee_salaries[x]<500:\n",
    "        employee_salaries[x]='Low'\n",
    "    elif employee_salaries[x]>500:\n",
    "        employee_salaries[x]='High'\n",
    "    else:\n",
    "        employee_salaries[x]='Mid'\n",
    "        \n",
    "print(employee_salaries)"
   ]
  },
  {
   "cell_type": "code",
   "execution_count": 5,
   "metadata": {},
   "outputs": [
    {
     "data": {
      "text/plain": [
       "5"
      ]
     },
     "execution_count": 5,
     "metadata": {},
     "output_type": "execute_result"
    }
   ],
   "source": [
    "employee_salaries.count('High')"
   ]
  },
  {
   "cell_type": "code",
   "execution_count": 7,
   "metadata": {},
   "outputs": [
    {
     "name": "stdout",
     "output_type": "stream",
     "text": [
      "0\n",
      "1\n",
      "2\n",
      "3\n",
      "4\n",
      "5\n",
      "6\n",
      "7\n",
      "8\n",
      "9\n"
     ]
    }
   ],
   "source": [
    "#Variable Transformation\n",
    "\n",
    "#the range function can only work for inetegers\n",
    "\n",
    "x_int=10\n",
    "\n",
    "for y in range (0, x_int):\n",
    "    print (y)\n"
   ]
  },
  {
   "cell_type": "code",
   "execution_count": 9,
   "metadata": {},
   "outputs": [
    {
     "name": "stdout",
     "output_type": "stream",
     "text": [
      "0\n",
      "1\n",
      "2\n",
      "3\n",
      "4\n",
      "5\n",
      "6\n",
      "7\n",
      "8\n",
      "9\n"
     ]
    }
   ],
   "source": [
    "# if you will use float in range function\n",
    "# convert it first into ineteger\n",
    "\n",
    "x_float=10.0\n",
    "\n",
    "for y in range (0, int(x_float)):\n",
    "    print (y)"
   ]
  },
  {
   "cell_type": "code",
   "execution_count": 11,
   "metadata": {},
   "outputs": [
    {
     "name": "stdout",
     "output_type": "stream",
     "text": [
      "0\n",
      "1\n",
      "2\n",
      "3\n",
      "4\n",
      "5\n",
      "6\n",
      "7\n",
      "8\n",
      "9\n"
     ]
    }
   ],
   "source": [
    "#if you will use string in \"range\" function\n",
    "# convert it first into integer\n",
    "# note that the string must have a numerical value, not alphabet\n",
    "\n",
    "x_string='10'\n",
    "\n",
    "for y in range (0, int(x_string)):\n",
    "    print(y)"
   ]
  },
  {
   "cell_type": "code",
   "execution_count": 12,
   "metadata": {},
   "outputs": [
    {
     "data": {
      "text/plain": [
       "2"
      ]
     },
     "execution_count": 12,
     "metadata": {},
     "output_type": "execute_result"
    }
   ],
   "source": [
    "# using the 'len' function ====> length\n",
    "# you can only use this for string\n",
    "\n",
    "len(x_string)"
   ]
  },
  {
   "cell_type": "code",
   "execution_count": 14,
   "metadata": {},
   "outputs": [
    {
     "data": {
      "text/plain": [
       "2"
      ]
     },
     "execution_count": 14,
     "metadata": {},
     "output_type": "execute_result"
    }
   ],
   "source": [
    "#you cannot use len in integer and float, it must be in string data type\n",
    "\n",
    "len(str(x_int))"
   ]
  },
  {
   "cell_type": "code",
   "execution_count": 16,
   "metadata": {},
   "outputs": [
    {
     "data": {
      "text/plain": [
       "10"
      ]
     },
     "execution_count": 16,
     "metadata": {},
     "output_type": "execute_result"
    }
   ],
   "source": [
    "x_str='helloworld'\n",
    "len(x_str)"
   ]
  },
  {
   "cell_type": "code",
   "execution_count": 36,
   "metadata": {},
   "outputs": [
    {
     "name": "stdout",
     "output_type": "stream",
     "text": [
      "   first_name  age  net_worth\n",
      "0        aida   29   10000000\n",
      "1       lorna   35   20030000\n",
      "2          fe   55  100030000\n",
      "3        tina   43  203789000\n",
      "4         ana   89  103789000\n",
      "5      ferdie   32  123989000\n",
      "6      gloria   12   70030000\n",
      "7        aura   32  323789000\n",
      "8        ryan   44  990030000\n",
      "9      norman   67  473989000\n",
      "10      peter   43  204563000\n",
      "11     hailey   67  330030000\n",
      "12        pia   54   32030000\n",
      "13        lia   33  230378900\n"
     ]
    }
   ],
   "source": [
    "# Feature Scaling\n",
    "# Min-Max Normalization\n",
    "# Xnew = (Xold - Min)/(Max - Min)\n",
    "\n",
    "\n",
    "# Standardization\n",
    "# Xnew = (Xold - Mean)/(Standard Deviation)\n",
    "\n",
    "import pandas as pd\n",
    "\n",
    "df=pd.read_csv('week5_data_1.csv')\n",
    "print(df)\n",
    "\n",
    "\n",
    "\n"
   ]
  },
  {
   "cell_type": "code",
   "execution_count": 37,
   "metadata": {},
   "outputs": [
    {
     "name": "stdout",
     "output_type": "stream",
     "text": [
      "   first_name  age  net_worth  minmax_nw  standardized_nw\n",
      "0        aida   29   10000000          0                0\n",
      "1       lorna   35   20030000          0                0\n",
      "2          fe   55  100030000          0                0\n",
      "3        tina   43  203789000          0                0\n",
      "4         ana   89  103789000          0                0\n",
      "5      ferdie   32  123989000          0                0\n",
      "6      gloria   12   70030000          0                0\n",
      "7        aura   32  323789000          0                0\n",
      "8        ryan   44  990030000          0                0\n",
      "9      norman   67  473989000          0                0\n",
      "10      peter   43  204563000          0                0\n",
      "11     hailey   67  330030000          0                0\n",
      "12        pia   54   32030000          0                0\n",
      "13        lia   33  230378900          0                0\n",
      "Min: 10000000\n",
      "Max: 990030000\n",
      "Mean: 229747635.7142857\n",
      "Stdev: 247652058.9327685\n"
     ]
    }
   ],
   "source": [
    "df.insert(3, 'minmax_nw',0)\n",
    "df.insert(4, 'standardized_nw',0)\n",
    "print(df)\n",
    "print('Min: ' + str(min(df.net_worth)))\n",
    "print('Max: ' + str(max(df.net_worth)))\n",
    "print('Mean: ' + str(np.mean(df.net_worth)))\n",
    "print('Stdev: ' + str(np.std(df.net_worth)))\n",
    "\n",
    "      "
   ]
  },
  {
   "cell_type": "code",
   "execution_count": 38,
   "metadata": {},
   "outputs": [
    {
     "name": "stdout",
     "output_type": "stream",
     "text": [
      "   first_name  age  net_worth  minmax_nw  standardized_nw\n",
      "0        aida   29   10000000   0.000000        -0.887324\n",
      "1       lorna   35   20030000   0.010234        -0.846824\n",
      "2          fe   55  100030000   0.091865        -0.523790\n",
      "3        tina   43  203789000   0.197738        -0.104819\n",
      "4         ana   89  103789000   0.095700        -0.508611\n",
      "5      ferdie   32  123989000   0.116312        -0.427045\n",
      "6      gloria   12   70030000   0.061253        -0.644928\n",
      "7        aura   32  323789000   0.320183         0.379732\n",
      "8        ryan   44  990030000   1.000000         3.069962\n",
      "9      norman   67  473989000   0.473444         0.986228\n",
      "10      peter   43  204563000   0.198528        -0.101694\n",
      "11     hailey   67  330030000   0.326551         0.404932\n",
      "12        pia   54   32030000   0.022479        -0.798369\n",
      "13        lia   33  230378900   0.224870         0.002549\n"
     ]
    }
   ],
   "source": [
    "# Feature Scaling\n",
    "# Min-Max Normalization\n",
    "# Xnew = (Xold - Min)/(Max - Min)\n",
    "\n",
    "\n",
    "# Standardization\n",
    "# Xnew = (Xold - Mean)/(Standard Deviation)\n",
    "\n",
    "df.minmax_nw=(df.net_worth-min(df.net_worth))/(max(df.net_worth)-min(df.net_worth))\n",
    "df.standardized_nw=(df.net_worth-np.mean(df.net_worth))/(np.std(df.net_worth))\n",
    "print(df)\n",
    "                                               "
   ]
  },
  {
   "cell_type": "code",
   "execution_count": 2,
   "metadata": {},
   "outputs": [
    {
     "data": {
      "image/png": "[encoded data removed]",
      "text/plain": [
       "<Figure size 432x288 with 1 Axes>"
      ]
     },
     "metadata": {},
     "output_type": "display_data"
    }
   ],
   "source": [
    "# Interaction Features\n",
    "#Scatter Plot\n",
    "\n",
    "import numpy as np\n",
    "import matplotlib.pyplot as plt\n",
    "import pandas as pd\n",
    "from sklearn.linear_model import LinearRegression\n",
    "\n",
    "df=pd.read_csv('week5_data_1.csv')\n",
    "df\n",
    "\n",
    "#scatter plot code\n",
    "x=np.array(df.age).reshape(-1, 1) # we extend the declaration  with the reshape (-1,1) function so that  we can plot its regression equation.\n",
    "y=df.net_worth\n",
    "\n",
    "plt.scatter(x,y)\n",
    "plt.title('Net Worth vs. Age')\n",
    "plt.xlabel('Age')\n",
    "plt.ylabel('Net Worth (Php)')\n",
    "plt.show()\n"
   ]
  },
  {
   "cell_type": "code",
   "execution_count": 3,
   "metadata": {},
   "outputs": [
    {
     "data": {
      "image/png": "[encoded data removed]",
      "text/plain": [
       "<Figure size 432x288 with 1 Axes>"
      ]
     },
     "metadata": {},
     "output_type": "display_data"
    },
    {
     "name": "stdout",
     "output_type": "stream",
     "text": [
      "Coefficient of Determination: 0.02020388457184452\n"
     ]
    }
   ],
   "source": [
    "#Linear Regeression Code\n",
    "model=LinearRegression()\n",
    "model.fit(x,y)\n",
    "y_pred=model.predict(x)\n",
    "plt.scatter(x,y)\n",
    "plt.plot(x,y_pred,color='red')\n",
    "plt.show()\n",
    "\n",
    "r_sq=model.score(x,y)\n",
    "print('Coefficient of Determination:', r_sq)\n"
   ]
  },
  {
   "cell_type": "code",
   "execution_count": 4,
   "metadata": {},
   "outputs": [
    {
     "data": {
      "text/plain": [
       "<seaborn.axisgrid.PairGrid at 0x2bc51724b38>"
      ]
     },
     "execution_count": 4,
     "metadata": {},
     "output_type": "execute_result"
    },
    {
     "data": {
      "image/png": "[encoded data removed]",
      "text/plain": [
       "<Figure size 360x360 with 6 Axes>"
      ]
     },
     "metadata": {},
     "output_type": "display_data"
    }
   ],
   "source": [
    "#Pairplot\n",
    "import seaborn as sns\n",
    "\n",
    "sns.pairplot(df)"
   ]
  },
  {
   "cell_type": "code",
   "execution_count": null,
   "metadata": {},
   "outputs": [],
   "source": [
    "# Engineering Datetime Variables"
   ]
  }
 ],
 "metadata": {
  "kernelspec": {
   "display_name": "Python 3",
   "language": "python",
   "name": "python3"
  },
  "language_info": {
   "codemirror_mode": {
    "name": "ipython",
    "version": 3
   },
   "file_extension": ".py",
   "mimetype": "text/x-python",
   "name": "python",
   "nbconvert_exporter": "python",
   "pygments_lexer": "ipython3",
   "version": "3.6.5"
  }
 },
 "nbformat": 4,
 "nbformat_minor": 2
}
